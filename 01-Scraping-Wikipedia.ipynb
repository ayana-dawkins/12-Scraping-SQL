{
 "cells": [
  {
   "cell_type": "markdown",
   "metadata": {},
   "source": [
    "# Six Degrees of Kevin Bacon\n",
    "\n",
    "![](images/Kevin_Bacon.jpg)\n",
    "\n",
    "This activity is motivated by the text **Web Scraping with Python** by Ryan Mitchell, available through O'Reilly [here](http://shop.oreilly.com/product/0636920078067.do).  This book goes in depth with much more on using different libraries with Python around common webscraping tasks and I highly recommend it.  We will focus on the activity of moving from a base page to further pages through their links.  "
   ]
  },
  {
   "cell_type": "code",
   "execution_count": 73,
   "metadata": {},
   "outputs": [],
   "source": [
    "import requests\n",
    "from bs4 import BeautifulSoup"
   ]
  },
  {
   "cell_type": "markdown",
   "metadata": {},
   "source": [
    "### Scraping Links\n",
    "\n",
    "Below, we take the page dealing with the six degrees of Keving Bacon problem.  Here, our goal is to extract links to other pages that we will subsequently pass to requests.  Recall that a link is located in an `<a>` tag and the link is contained in the `href` attribute.  For example, the tag\n",
    "\n",
    "```HTML\n",
    "<a href=\"/wiki/Six_degrees_of_separation\" title=\"Six degrees of separation\">six degrees of separation</a>\n",
    "```\n",
    "\n",
    "references the Six Degrees of Separation article.  Note that this is a url within Wikipedia.  We can isolate these inner Wikipedia references.  To begin, let's inspect the link content."
   ]
  },
  {
   "cell_type": "code",
   "execution_count": 74,
   "metadata": {},
   "outputs": [],
   "source": [
    "response = requests.get('https://en.wikipedia.org/wiki/Six_Degrees_of_Kevin_Bacon')"
   ]
  },
  {
   "cell_type": "code",
   "execution_count": 75,
   "metadata": {},
   "outputs": [],
   "source": [
    "soup = BeautifulSoup(response.text, 'html.parser')"
   ]
  },
  {
   "cell_type": "code",
   "execution_count": 33,
   "metadata": {},
   "outputs": [
    {
     "data": {
      "text/plain": [
       "<a id=\"top\"></a>"
      ]
     },
     "execution_count": 33,
     "metadata": {},
     "output_type": "execute_result"
    }
   ],
   "source": [
    "soup.find('a')"
   ]
  },
  {
   "cell_type": "code",
   "execution_count": 34,
   "metadata": {},
   "outputs": [
    {
     "name": "stdout",
     "output_type": "stream",
     "text": [
      "{'href': '/wiki/Kevin_Bacon', 'title': 'Kevin Bacon'}\n",
      "{'href': '/wiki/Kevin_Bacon', 'title': 'Kevin Bacon'}\n",
      "{'href': '/wiki/Kevin_Bacon', 'title': 'Kevin Bacon'}\n",
      "{'href': '/wiki/Kevin_Bacon', 'title': 'Kevin Bacon'}\n",
      "{'href': '/wiki/Kevin_Bacon', 'title': 'Kevin Bacon'}\n",
      "{'href': '/wiki/Kevin_Bacon', 'title': 'Kevin Bacon'}\n",
      "{'href': '/wiki/Kevin_Bacon', 'title': 'Kevin Bacon'}\n",
      "{'href': '/wiki/Kevin_Bacon', 'title': 'Kevin Bacon'}\n",
      "{'href': '/wiki/Kevin_Bacon', 'title': 'Kevin Bacon'}\n",
      "{'href': '/wiki/Kevin_Bacon', 'title': 'Kevin Bacon'}\n"
     ]
    }
   ],
   "source": [
    "for links in soup.find_all('a')[:10]:\n",
    "    print(link.attrs)"
   ]
  },
  {
   "cell_type": "code",
   "execution_count": 35,
   "metadata": {},
   "outputs": [
    {
     "name": "stdout",
     "output_type": "stream",
     "text": [
      "#mw-head\n",
      "#p-search\n",
      "/wiki/File:Kevin_Bacon.jpg\n",
      "/wiki/File:Kevin_Bacon.jpg\n",
      "/wiki/Parlor_game\n",
      "/wiki/Six_degrees_of_separation\n",
      "/wiki/Kevin_Bacon\n",
      "/wiki/Hollywood\n",
      "/wiki/Kevin_Bacon\n"
     ]
    }
   ],
   "source": [
    "for link in soup.find_all('a')[:10]:\n",
    "    if 'href' in link.attrs:\n",
    "        print(link.attrs['href'])"
   ]
  },
  {
   "cell_type": "markdown",
   "metadata": {},
   "source": [
    "Okay, seems there are links outside of the inner wiki links.  However, we see that the wiki links contain `/wiki/`, no colons, and the links are all within the body of the page.  Exploiting these means we can write a regular expression \n",
    "\n",
    "```\n",
    "^(/wiki/)((?!:).)*$\n",
    "```\n",
    "\n",
    "that will match only the wiki links.  "
   ]
  },
  {
   "cell_type": "code",
   "execution_count": 36,
   "metadata": {},
   "outputs": [],
   "source": [
    "import re"
   ]
  },
  {
   "cell_type": "code",
   "execution_count": 37,
   "metadata": {},
   "outputs": [
    {
     "name": "stdout",
     "output_type": "stream",
     "text": [
      "/wiki/Parlor_game\n",
      "/wiki/Six_degrees_of_separation\n",
      "/wiki/Kevin_Bacon\n",
      "/wiki/Hollywood\n",
      "/wiki/Kevin_Bacon\n",
      "/wiki/Kevin_Bacon\n",
      "/wiki/Charitable_organization\n",
      "/wiki/SixDegrees.org\n",
      "/wiki/Premiere_(magazine)\n",
      "/wiki/Kevin_Bacon\n"
     ]
    }
   ],
   "source": [
    "for link in soup.find('div', {'id': 'bodyContent'}).find_all('a', href = re.compile('^(/wiki/)((?!:).)*$'))[:10]:\n",
    "    if 'href' in link.attrs:\n",
    "        print(link.attrs['href'])"
   ]
  },
  {
   "cell_type": "markdown",
   "metadata": {},
   "source": [
    "### A Function for Links\n",
    "\n",
    "Now, let's write a function that extracts the link from any wikipedia page.  We should be able to use the idea that the links we care about are located in the same place as our Six Degrees example.  "
   ]
  },
  {
   "cell_type": "code",
   "execution_count": 41,
   "metadata": {},
   "outputs": [],
   "source": [
    "import random\n",
    "\n",
    "def get_wikilinks(url):\n",
    "    links = []\n",
    "    response = requests.get(url)\n",
    "    soup = BeautifulSoup(response.text, 'html.parser')\n",
    "    for link in soup.find('div', {'id': 'bodyContent'}).find_all('a', href = re.compile('^(/wiki/)((?!:).)*$')):\n",
    "        links.append(link)\n",
    "    return links"
   ]
  },
  {
   "cell_type": "code",
   "execution_count": 39,
   "metadata": {},
   "outputs": [],
   "source": [
    "links = get_wikilinks('https://en.wikipedia.org/wiki/Kevin_Bacon')"
   ]
  },
  {
   "cell_type": "code",
   "execution_count": 43,
   "metadata": {},
   "outputs": [
    {
     "data": {
      "text/plain": [
       "[<a class=\"mw-disambig\" href=\"/wiki/Kevin_Bacon_(disambiguation)\" title=\"Kevin Bacon (disambiguation)\">Kevin Bacon (disambiguation)</a>,\n",
       " <a href=\"/wiki/San_Diego_Comic-Con\" title=\"San Diego Comic-Con\">San Diego Comic-Con</a>,\n",
       " <a href=\"/wiki/Philadelphia\" title=\"Philadelphia\">Philadelphia</a>,\n",
       " <a href=\"/wiki/Pennsylvania\" title=\"Pennsylvania\">Pennsylvania</a>,\n",
       " <a href=\"/wiki/Kyra_Sedgwick\" title=\"Kyra Sedgwick\">Kyra Sedgwick</a>,\n",
       " <a href=\"/wiki/Sosie_Bacon\" title=\"Sosie Bacon\">Sosie Bacon</a>,\n",
       " <a href=\"/wiki/Edmund_Bacon_(architect)\" title=\"Edmund Bacon (architect)\">Edmund Bacon</a>,\n",
       " <a href=\"/wiki/Michael_Bacon_(musician)\" title=\"Michael Bacon (musician)\">Michael Bacon</a>,\n",
       " <a href=\"/wiki/Footloose_(1984_film)\" title=\"Footloose (1984 film)\">Footloose</a>,\n",
       " <a href=\"/wiki/JFK_(film)\" title=\"JFK (film)\">JFK</a>]"
      ]
     },
     "execution_count": 43,
     "metadata": {},
     "output_type": "execute_result"
    }
   ],
   "source": [
    "links[:10]"
   ]
  },
  {
   "cell_type": "code",
   "execution_count": 21,
   "metadata": {},
   "outputs": [
    {
     "name": "stdout",
     "output_type": "stream",
     "text": [
      "{'href': '/wiki/Kevin_Bacon', 'title': 'Kevin Bacon'}\n",
      "{'href': '/wiki/Kevin_Bacon', 'title': 'Kevin Bacon'}\n",
      "{'href': '/wiki/Kevin_Bacon', 'title': 'Kevin Bacon'}\n",
      "{'href': '/wiki/Kevin_Bacon', 'title': 'Kevin Bacon'}\n",
      "{'href': '/wiki/Kevin_Bacon', 'title': 'Kevin Bacon'}\n",
      "{'href': '/wiki/Kevin_Bacon', 'title': 'Kevin Bacon'}\n",
      "{'href': '/wiki/Kevin_Bacon', 'title': 'Kevin Bacon'}\n",
      "{'href': '/wiki/Kevin_Bacon', 'title': 'Kevin Bacon'}\n",
      "{'href': '/wiki/Kevin_Bacon', 'title': 'Kevin Bacon'}\n",
      "{'href': '/wiki/Kevin_Bacon', 'title': 'Kevin Bacon'}\n"
     ]
    }
   ],
   "source": [
    "for links in soup.find_all('a')[:10]:\n",
    "    print(link.attrs)"
   ]
  },
  {
   "cell_type": "markdown",
   "metadata": {},
   "source": [
    "### Connecting Pages\n",
    "\n",
    "Now, we want to follow these references, gather more urls, and repeat. For the sake of not running to exhaustion, I abbreviate the output using only a large length requirement for the link list.  To traverse all the pages we would simply change the \n",
    "\n",
    "```python\n",
    "while len(links) > 100:\n",
    "```\n",
    "\n",
    "to \n",
    "\n",
    "```python\n",
    "while len(links) > 0:\n",
    "```"
   ]
  },
  {
   "cell_type": "code",
   "execution_count": 42,
   "metadata": {},
   "outputs": [],
   "source": [
    "import random\n",
    "def get_wikilinks(url):\n",
    "    links = []\n",
    "    response = requests.get(url)\n",
    "    soup = BeautifulSoup(response.text, 'html.parser')\n",
    "    for link in soup.find('div', {'id': 'bodyContent'}).find_all('a', href = re.compile('^(/wiki/)((?!:).)*$')):\n",
    "        links.append(link)\n",
    "    return links"
   ]
  },
  {
   "cell_type": "code",
   "execution_count": 44,
   "metadata": {},
   "outputs": [
    {
     "name": "stdout",
     "output_type": "stream",
     "text": [
      "https://en.wikipedia.org/wiki/Screen_Actors_Guild_Award_for_Outstanding_Performance_by_a_Male_Actor_in_a_Miniseries_or_Television_Movie\n",
      "https://en.wikipedia.org/wiki/12th_Screen_Actors_Guild_Awards\n",
      "https://en.wikipedia.org/wiki/George_Clooney\n",
      "https://en.wikipedia.org/wiki/Sophia_Loren\n",
      "https://en.wikipedia.org/wiki/Bianco,_rosso_e...\n"
     ]
    }
   ],
   "source": [
    "links = get_wikilinks('https://en.wikipedia.org/wiki/Kevin_Bacon')\n",
    "while len(links) > 100:\n",
    "    newArticle = 'https://en.wikipedia.org' + links[random.randint(0, len(links)-1)].attrs['href']\n",
    "    print(newArticle)\n",
    "    links = get_wikilinks(newArticle)"
   ]
  },
  {
   "cell_type": "markdown",
   "metadata": {},
   "source": [
    "### Problem\n",
    "\n",
    "Write a function to retrieve a list of albums of any area you are interested in using Wikipedia's list of list of albums page: https://en.wikipedia.org/wiki/Lists_of_albums."
   ]
  },
  {
   "cell_type": "code",
   "execution_count": 66,
   "metadata": {},
   "outputs": [],
   "source": [
    "response = requests.get('https://en.wikipedia.org/wiki/Lists_of_fastest-selling_albums')"
   ]
  },
  {
   "cell_type": "code",
   "execution_count": 67,
   "metadata": {},
   "outputs": [],
   "source": [
    "soup = BeautifulSoup(response.text, 'html.parser')"
   ]
  },
  {
   "cell_type": "code",
   "execution_count": 68,
   "metadata": {},
   "outputs": [
    {
     "data": {
      "text/plain": [
       "<a id=\"top\"></a>"
      ]
     },
     "execution_count": 68,
     "metadata": {},
     "output_type": "execute_result"
    }
   ],
   "source": [
    "soup.find('a')"
   ]
  },
  {
   "cell_type": "code",
   "execution_count": 69,
   "metadata": {},
   "outputs": [
    {
     "name": "stdout",
     "output_type": "stream",
     "text": [
      "#mw-head\n",
      "#p-search\n",
      "#cite_note-latimes-1\n",
      "#cite_note-nme-2\n",
      "/wiki/25_(Adele_album)\n",
      "/wiki/Adele\n",
      "#cite_note-25_USA-3\n",
      "/wiki/Distance_(Hikaru_Utada_album)\n",
      "/wiki/Hikaru_Utada\n"
     ]
    }
   ],
   "source": [
    "for link in soup.find_all('a')[:10]:\n",
    "    if 'href' in link.attrs:\n",
    "        print(link.attrs['href'])"
   ]
  },
  {
   "cell_type": "code",
   "execution_count": 70,
   "metadata": {},
   "outputs": [
    {
     "name": "stdout",
     "output_type": "stream",
     "text": [
      "<a href=\"/wiki/25_(Adele_album)\" title=\"25 (Adele album)\">25</a>\n",
      "<a href=\"/wiki/Adele\" title=\"Adele\">Adele</a>\n",
      "<a class=\"mw-redirect\" href=\"/wiki/Distance_(Hikaru_Utada_album)\" title=\"Distance (Hikaru Utada album)\">Distance</a>\n",
      "<a class=\"mw-redirect\" href=\"/wiki/Hikaru_Utada\" title=\"Hikaru Utada\">Hikaru Utada</a>\n",
      "<a href=\"/wiki/Nielsen_SoundScan\" title=\"Nielsen SoundScan\">Nielsen SoundScan</a>\n",
      "<a href=\"/wiki/25_(Adele_album)\" title=\"25 (Adele album)\">25</a>\n",
      "<a href=\"/wiki/Adele\" title=\"Adele\">Adele</a>\n",
      "<a href=\"/wiki/Let%27s_Talk_About_Love\" title=\"Let's Talk About Love\">Let's Talk About Love</a>\n",
      "<a class=\"mw-redirect\" href=\"/wiki/C%C3%A9line_Dion\" title=\"Céline Dion\">Céline Dion</a>\n",
      "<a href=\"/wiki/Millennium_(Backstreet_Boys_album)\" title=\"Millennium (Backstreet Boys album)\">Millennium</a>\n",
      "<a href=\"/wiki/Backstreet_Boys\" title=\"Backstreet Boys\">Backstreet Boys</a>\n",
      "<a href=\"/wiki/Star_Acad%C3%A9mie#Discography\" title=\"Star Académie\">Star Académie</a>\n",
      "<a href=\"/wiki/Star_Acad%C3%A9mie\" title=\"Star Académie\">Star Académie</a>\n",
      "<a href=\"/wiki/Black_%26_Blue_(Backstreet_Boys_album)\" title=\"Black &amp; Blue (Backstreet Boys album)\">Black &amp; Blue</a>\n",
      "<a href=\"/wiki/A_New_Day_Has_Come\" title=\"A New Day Has Come\">A New Day Has Come</a>\n",
      "<a href=\"/wiki/Up!_(album)\" title=\"Up! (album)\">Up!</a>\n",
      "<a href=\"/wiki/Shania_Twain\" title=\"Shania Twain\">Shania Twain</a>\n",
      "<a href=\"/wiki/Black_Ice_(album)\" title=\"Black Ice (album)\">Black Ice</a>\n",
      "<a href=\"/wiki/AC/DC\" title=\"AC/DC\">AC/DC</a>\n",
      "<a href=\"/wiki/Gregory_Charles#I_Think_of_You_(2006)\" title=\"Gregory Charles\">I Think of You</a>\n",
      "<a href=\"/wiki/Gregory_Charles\" title=\"Gregory Charles\">Gregory Charles</a>\n",
      "<a href=\"/wiki/1989_(Taylor_Swift_album)\" title=\"1989 (Taylor Swift album)\">1989</a>\n",
      "<a href=\"/wiki/Taylor_Swift\" title=\"Taylor Swift\">Taylor Swift</a>\n",
      "<a href=\"/wiki/12_(Herbert_Gr%C3%B6nemeyer_album)\" title=\"12 (Herbert Grönemeyer album)\">12</a>\n",
      "<a href=\"/wiki/Herbert_Gr%C3%B6nemeyer\" title=\"Herbert Grönemeyer\">Herbert Grönemeyer</a>\n",
      "<a href=\"/wiki/25_(Adele_album)\" title=\"25 (Adele album)\">25</a>\n",
      "<a href=\"/wiki/Adele\" title=\"Adele\">Adele</a>\n",
      "<a href=\"/wiki/The_Best_of_1980%E2%80%931990\" title=\"The Best of 1980–1990\">The Best of 1980–1990</a>\n",
      "<a href=\"/wiki/U2\" title=\"U2\">U2</a>\n",
      "<a href=\"/wiki/Oricon\" title=\"Oricon\">Oricon</a>\n",
      "<a href=\"/wiki/J-pop\" title=\"J-pop\">J-pop</a>\n",
      "<a class=\"mw-redirect\" href=\"/wiki/Hikaru_Utada\" title=\"Hikaru Utada\">Hikaru Utada</a>\n",
      "<a href=\"/wiki/Ayumi_Hamasaki\" title=\"Ayumi Hamasaki\">Ayumi Hamasaki</a>\n",
      "<a class=\"mw-redirect\" href=\"/wiki/Distance_(Hikaru_Utada_album)\" title=\"Distance (Hikaru Utada album)\">Distance</a>\n",
      "<a class=\"mw-redirect\" href=\"/wiki/Hikaru_Utada\" title=\"Hikaru Utada\">Hikaru Utada</a>\n",
      "<a href=\"/wiki/A_Best\" title=\"A Best\">A Best</a>\n",
      "<a href=\"/wiki/Ayumi_Hamasaki\" title=\"Ayumi Hamasaki\">Ayumi Hamasaki</a>\n",
      "<a href=\"/wiki/B%27z_The_Best_%22Pleasure%22\" title=\"B'z The Best &quot;Pleasure&quot;\">The Best \"Pleasure\"</a>\n",
      "<a href=\"/wiki/B%27z\" title=\"B'z\">B'z</a>\n",
      "<a href=\"/wiki/B%27z_The_Best_%22Treasure%22\" title=\"B'z The Best &quot;Treasure&quot;\"><i>The Best \"Treasure\"</i></a>\n",
      "<a class=\"mw-redirect\" href=\"/wiki/Deep_River_(Hikaru_Utada_album)\" title=\"Deep River (Hikaru Utada album)\">Deep River</a>\n",
      "<a href=\"/wiki/Delicious_Way\" title=\"Delicious Way\">Delicious Way</a>\n",
      "<a href=\"/wiki/Mai_Kuraki\" title=\"Mai Kuraki\">Mai Kuraki</a>\n",
      "<a class=\"mw-redirect\" href=\"/wiki/First_Love_(Hikaru_Utada_album)\" title=\"First Love (Hikaru Utada album)\">First Love</a>\n",
      "<a href=\"/wiki/Review_(Glay_album)\" title=\"Review (Glay album)\">Review</a>\n",
      "<a href=\"/wiki/Glay\" title=\"Glay\">Glay</a>\n",
      "<a href=\"/wiki/Sweet_19_Blues\" title=\"Sweet 19 Blues\">Sweet 19 Blues</a>\n",
      "<a href=\"/wiki/Namie_Amuro\" title=\"Namie Amuro\">Namie Amuro</a>\n",
      "<a href=\"/wiki/I_Am..._(Ayumi_Hamasaki_album)\" title=\"I Am... (Ayumi Hamasaki album)\">I Am...</a>\n",
      "<a href=\"/wiki/Recorded_Music_NZ\" title=\"Recorded Music NZ\">Recording Industry Association of New Zealand</a>\n",
      "<a href=\"/wiki/Recorded_Music_NZ\" title=\"Recorded Music NZ\">Recorded Music NZ</a>\n",
      "<a href=\"/wiki/25_(Adele_album)\" title=\"25 (Adele album)\">25</a>\n",
      "<a href=\"/wiki/Adele\" title=\"Adele\">Adele</a>\n",
      "<a href=\"/wiki/I_Dreamed_a_Dream_(album)\" title=\"I Dreamed a Dream (album)\">I Dreamed a Dream</a>\n",
      "<a href=\"/wiki/Susan_Boyle\" title=\"Susan Boyle\">Susan Boyle</a>\n",
      "<a href=\"/wiki/25_(Adele_album)\" title=\"25 (Adele album)\">25</a>\n",
      "<a href=\"/wiki/Adele\" title=\"Adele\">Adele</a>\n",
      "<a href=\"/wiki/Be_Here_Now_(album)\" title=\"Be Here Now (album)\">Be Here Now</a>\n",
      "<a href=\"/wiki/Oasis_(band)\" title=\"Oasis (band)\">Oasis</a>\n",
      "<a href=\"/wiki/%C3%B7_(album)\" title=\"÷ (album)\">÷</a>\n",
      "<a href=\"/wiki/Ed_Sheeran\" title=\"Ed Sheeran\">Ed Sheeran</a>\n",
      "<a href=\"/wiki/Progress_(Take_That_album)\" title=\"Progress (Take That album)\">Progress</a>\n",
      "<a href=\"/wiki/Take_That\" title=\"Take That\">Take That</a>\n",
      "<a href=\"/wiki/X%26Y\" title=\"X&amp;Y\">X&amp;Y</a>\n",
      "<a href=\"/wiki/Coldplay\" title=\"Coldplay\">Coldplay</a>\n",
      "<a class=\"mw-redirect\" href=\"/wiki/The_Circus\" title=\"The Circus\">The Circus</a>\n",
      "<a href=\"/wiki/Take_That\" title=\"Take That\">Take That</a>\n",
      "<a href=\"/wiki/I_Dreamed_a_Dream_(album)\" title=\"I Dreamed a Dream (album)\">I Dreamed a Dream</a>\n",
      "<a href=\"/wiki/Susan_Boyle\" title=\"Susan Boyle\">Susan Boyle</a>\n",
      "<a href=\"/wiki/Life_for_Rent\" title=\"Life for Rent\">Life for Rent</a>\n",
      "<a href=\"/wiki/Dido_(singer)\" title=\"Dido (singer)\">Dido</a>\n",
      "<a href=\"/wiki/Spirit_(Leona_Lewis_album)\" title=\"Spirit (Leona Lewis album)\">Spirit</a>\n",
      "<a href=\"/wiki/Leona_Lewis\" title=\"Leona Lewis\">Leona Lewis</a>\n",
      "<a href=\"/wiki/Nielsen_SoundScan\" title=\"Nielsen SoundScan\">Nielsen SoundScan</a>\n",
      "<a href=\"/wiki/25_(Adele_album)\" title=\"25 (Adele album)\">25</a>\n",
      "<a href=\"/wiki/Adele\" title=\"Adele\">Adele</a>\n",
      "<a href=\"/wiki/No_Strings_Attached_(NSYNC_album)\" title=\"No Strings Attached (NSYNC album)\">No Strings Attached</a>\n",
      "<a class=\"mw-redirect\" href=\"/wiki/*NSYNC\" title=\"*NSYNC\">*NSYNC</a>\n",
      "<a href=\"/wiki/Celebrity_(album)\" title=\"Celebrity (album)\">Celebrity</a>\n",
      "<a href=\"/wiki/The_Marshall_Mathers_LP\" title=\"The Marshall Mathers LP\">The Marshall Mathers LP</a>\n",
      "<a href=\"/wiki/Eminem\" title=\"Eminem\">Eminem</a>\n",
      "<a href=\"/wiki/Black_%26_Blue_(Backstreet_Boys_album)\" title=\"Black &amp; Blue (Backstreet Boys album)\">Black &amp; Blue</a>\n",
      "<a href=\"/wiki/Backstreet_Boys\" title=\"Backstreet Boys\">Backstreet Boys</a>\n",
      "<a href=\"/wiki/The_Eminem_Show\" title=\"The Eminem Show\">The Eminem Show</a>\n",
      "<a href=\"/wiki/Eminem\" title=\"Eminem\">Eminem</a>\n",
      "<a href=\"/wiki/Oops!..._I_Did_It_Again_(album)\" title=\"Oops!... I Did It Again (album)\">Oops!... I Did It Again</a>\n",
      "<a href=\"/wiki/Britney_Spears\" title=\"Britney Spears\">Britney Spears</a>\n",
      "<a href=\"/wiki/1989_(Taylor_Swift_album)\" title=\"1989 (Taylor Swift album)\">1989</a>\n",
      "<a href=\"/wiki/Taylor_Swift\" title=\"Taylor Swift\">Taylor Swift</a>\n",
      "<a href=\"/wiki/Reputation_(Taylor_Swift_album)\" title=\"Reputation (Taylor Swift album)\">reputation</a>\n",
      "<a href=\"/wiki/Red_(Taylor_Swift_album)\" title=\"Red (Taylor Swift album)\">Red</a>\n",
      "<a href=\"/wiki/The_Massacre\" title=\"The Massacre\">The Massacre</a>\n",
      "<a href=\"/wiki/50_Cent\" title=\"50 Cent\">50 Cent</a>\n",
      "<a href=\"/wiki/Millennium_(Backstreet_Boys_album)\" title=\"Millennium (Backstreet Boys album)\">Millennium</a>\n",
      "<a href=\"/wiki/Born_This_Way_(album)\" title=\"Born This Way (album)\">Born This Way</a>\n",
      "<a href=\"/wiki/Lady_Gaga\" title=\"Lady Gaga\">Lady Gaga</a>\n",
      "<a href=\"/wiki/Confessions_(Usher_album)\" title=\"Confessions (Usher album)\">Confessions</a>\n",
      "<a class=\"mw-redirect\" href=\"/wiki/Usher_(singer)\" title=\"Usher (singer)\">Usher</a>\n",
      "<a href=\"/wiki/Double_Live_(Garth_Brooks_album)\" title=\"Double Live (Garth Brooks album)\">Double Live</a>\n",
      "<a href=\"/wiki/Garth_Brooks\" title=\"Garth Brooks\">Garth Brooks</a>\n",
      "<a href=\"/wiki/Chocolate_Starfish_and_the_Hot_Dog_Flavored_Water\" title=\"Chocolate Starfish and the Hot Dog Flavored Water\">Chocolate Starfish and the Hot Dog Flavored Water</a>\n",
      "<a href=\"/wiki/Limp_Bizkit\" title=\"Limp Bizkit\">Limp Bizkit</a>\n",
      "<a href=\"/wiki/Speak_Now\" title=\"Speak Now\">Speak Now</a>\n",
      "<a href=\"/wiki/Feels_Like_Home_(Norah_Jones_album)\" title=\"Feels Like Home (Norah Jones album)\">Feels Like Home</a>\n",
      "<a href=\"/wiki/Norah_Jones\" title=\"Norah Jones\">Norah Jones</a>\n",
      "<a href=\"/wiki/Tha_Carter_III\" title=\"Tha Carter III\">Tha Carter III</a>\n",
      "<a href=\"/wiki/Lil_Wayne\" title=\"Lil Wayne\">Lil Wayne</a>\n",
      "<a href=\"/wiki/John_F._Kennedy\" title=\"John F. Kennedy\">John F. Kennedy</a>\n",
      "<a href=\"/wiki/Assassination_of_John_F._Kennedy\" title=\"Assassination of John F. Kennedy\">assassination</a>\n",
      "<a href=\"/wiki/Rubber_Soul\" title=\"Rubber Soul\">Rubber Soul</a>\n",
      "<a class=\"mw-redirect\" href=\"/wiki/Let_it_Be_(album)\" title=\"Let it Be (album)\">Let it Be</a>\n",
      "<a href=\"/wiki/Music_(Carole_King_album)\" title=\"Music (Carole King album)\">Music</a>\n",
      "<a href=\"/wiki/Captain_Fantastic_and_the_Brown_Dirt_Cowboy\" title=\"Captain Fantastic and the Brown Dirt Cowboy\">Captain Fantastic and the Brown Dirt Cowboy</a>\n",
      "<a href=\"/wiki/Billboard_200\" title=\"Billboard 200\"><i>Billboard</i> 200</a>\n",
      "<a href=\"/wiki/Sgt._Pepper%27s_Lonely_Hearts_Club_Band_(film)\" title=\"Sgt. Pepper's Lonely Hearts Club Band (film)\">Sgt. Pepper's Lonely Hearts Club Band</a>\n",
      "<a href=\"/wiki/Sgt._Pepper%27s_Lonely_Hearts_Club_Band_(soundtrack)\" title=\"Sgt. Pepper's Lonely Hearts Club Band (soundtrack)\">soundtrack</a>\n",
      "<a href=\"/wiki/Led_Zeppelin\" title=\"Led Zeppelin\">Led Zeppelin</a>\n",
      "<a href=\"/wiki/In_Through_the_Out_Door\" title=\"In Through the Out Door\">In Through the Out Door</a>\n",
      "<a href=\"/wiki/Prince_(musician)\" title=\"Prince (musician)\">Prince</a>\n",
      "<a href=\"/wiki/Purple_Rain_(album)\" title=\"Purple Rain (album)\">Purple Rain</a>\n",
      "<a href=\"/wiki/Bruce_Springsteen\" title=\"Bruce Springsteen\">Bruce Springsteen</a>\n",
      "<a href=\"/wiki/Live_1975%E2%80%9385\" title=\"Live 1975–85\">Live/1975–85</a>\n",
      "<a href=\"/wiki/Whitney_Houston\" title=\"Whitney Houston\">Whitney Houston</a>\n",
      "<a href=\"/wiki/The_Bodyguard_(soundtrack)\" title=\"The Bodyguard (soundtrack)\">The Bodyguard: Original Soundtrack Album</a>\n",
      "<a href=\"/wiki/The_Beatles\" title=\"The Beatles\">The Beatles</a>\n",
      "<a class=\"mw-redirect\" href=\"/wiki/1_(The_Beatles_album)\" title=\"1 (The Beatles album)\">1</a>\n",
      "<a href=\"/wiki/25_(Adele_album)\" title=\"25 (Adele album)\"><i>25</i></a>\n",
      "<a href=\"/wiki/List_of_best-selling_albums\" title=\"List of best-selling albums\">List of best-selling albums</a>\n",
      "<a href=\"/wiki/List_of_best-selling_albums_in_Canada\" title=\"List of best-selling albums in Canada\">List of best-selling albums in Canada</a>\n",
      "<a href=\"/wiki/List_of_best-selling_albums_in_Japan\" title=\"List of best-selling albums in Japan\">List of best-selling albums in Japan</a>\n",
      "<a href=\"/wiki/List_of_best-selling_albums_in_the_United_Kingdom\" title=\"List of best-selling albums in the United Kingdom\">List of best-selling albums in the United Kingdom</a>\n",
      "<a class=\"mw-redirect\" href=\"/wiki/Lists_of_fastest-selling_UK_debuts_albums\" title=\"Lists of fastest-selling UK debuts albums\">Lists of fastest-selling UK debuts albums</a>\n",
      "<a href=\"/wiki/List_of_best-selling_albums_in_the_United_States\" title=\"List of best-selling albums in the United States\">List of best-selling albums in the United States</a>\n",
      "<a class=\"mw-redirect\" href=\"/wiki/Best-selling_albums_in_the_United_States_since_Nielsen_SoundScan_tracking_began\" title=\"Best-selling albums in the United States since Nielsen SoundScan tracking began\">Best-selling albums in the United States since Nielsen SoundScan tracking began</a>\n",
      "<a href=\"/wiki/Lists_of_albums\" title=\"Lists of albums\">Lists of albums</a>\n",
      "<a class=\"mw-redirect\" href=\"/wiki/Canoe.ca\" title=\"Canoe.ca\">Canoe.ca</a>\n",
      "<a href=\"/wiki/Official_Charts_Company\" title=\"Official Charts Company\">Official Charts Company</a>\n",
      "<a href=\"/wiki/Official_Charts_Company\" title=\"Official Charts Company\">Official Charts Company</a>\n",
      "<a href=\"/wiki/Official_Charts_Company\" title=\"Official Charts Company\">Official Charts Company</a>\n",
      "<a href=\"/wiki/Official_Charts_Company\" title=\"Official Charts Company\">Official Charts Company</a>\n",
      "<a href=\"/wiki/Sterling_Publishing\" title=\"Sterling Publishing\">Sterling</a>\n",
      "<a href=\"/wiki/Billboard_(magazine)\" title=\"Billboard (magazine)\">Billboard</a>\n",
      "<a href=\"/wiki/Barrie_%26_Jenkins\" title=\"Barrie &amp; Jenkins\">Barrie &amp; Jenkins</a>\n",
      "<a href=\"/wiki/International_Standard_Book_Number\" title=\"International Standard Book Number\">ISBN</a>\n",
      "<a href=\"/wiki/The_New_York_Times\" title=\"The New York Times\">The New York Times</a>\n",
      "<a href=\"/wiki/The_Item\" title=\"The Item\">The Sumter Daily Item</a>\n",
      "<a href=\"/wiki/Google_News\" title=\"Google News\">Google News</a>\n",
      "<a href=\"/wiki/Billboard_(magazine)\" title=\"Billboard (magazine)\">Billboard</a>\n",
      "<a href=\"/wiki/Rolling_Stone\" title=\"Rolling Stone\">Rolling Stone</a>\n",
      "<a href=\"/wiki/List_of_best-selling_albums\" title=\"List of best-selling albums\">Lists of best-selling albums</a>\n",
      "<a href=\"/wiki/List_of_best-selling_albums_in_China\" title=\"List of best-selling albums in China\">China</a>\n",
      "<a href=\"/wiki/List_of_best-selling_albums_in_Indonesia\" title=\"List of best-selling albums in Indonesia\">Indonesia</a>\n",
      "<a href=\"/wiki/List_of_best-selling_albums_in_Japan\" title=\"List of best-selling albums in Japan\">Japan</a>\n",
      "<a href=\"/wiki/List_of_best-selling_albums_in_South_Korea\" title=\"List of best-selling albums in South Korea\">South Korea</a>\n",
      "<a href=\"/wiki/List_of_best-selling_albums_in_the_Philippines\" title=\"List of best-selling albums in the Philippines\">Philippines</a>\n",
      "<a href=\"/wiki/List_of_best-selling_albums_in_Taiwan\" title=\"List of best-selling albums in Taiwan\">Taiwan</a>\n",
      "<a href=\"/wiki/List_of_best-selling_albums_in_Europe\" title=\"List of best-selling albums in Europe\">Europe</a>\n",
      "<a href=\"/wiki/List_of_best-selling_albums_in_Austria\" title=\"List of best-selling albums in Austria\">Austria</a>\n",
      "<a href=\"/wiki/List_of_best-selling_albums_in_Finland\" title=\"List of best-selling albums in Finland\">Finland</a>\n",
      "<a href=\"/wiki/List_of_best-selling_albums_in_France\" title=\"List of best-selling albums in France\">France</a>\n",
      "<a href=\"/wiki/List_of_best-selling_albums_in_Germany\" title=\"List of best-selling albums in Germany\">Germany</a>\n",
      "<a href=\"/wiki/List_of_best-selling_albums_in_Italy\" title=\"List of best-selling albums in Italy\">Italy</a>\n",
      "<a href=\"/wiki/List_of_best-selling_albums_in_Portugal\" title=\"List of best-selling albums in Portugal\">Portugal</a>\n",
      "<a href=\"/wiki/List_of_best-selling_albums_in_Spain\" title=\"List of best-selling albums in Spain\">Spain</a>\n",
      "<a href=\"/wiki/List_of_best-selling_albums_in_the_United_Kingdom\" title=\"List of best-selling albums in the United Kingdom\">United Kingdom</a>\n",
      "<a href=\"/wiki/List_of_best-selling_albums_in_Canada\" title=\"List of best-selling albums in Canada\">Canada</a>\n",
      "<a href=\"/wiki/List_of_best-selling_albums_in_Mexico\" title=\"List of best-selling albums in Mexico\">Mexico</a>\n",
      "<a href=\"/wiki/List_of_best-selling_albums_in_the_United_States\" title=\"List of best-selling albums in the United States\">United States</a>\n",
      "<a href=\"/wiki/List_of_best-selling_Latin_albums_in_the_United_States\" title=\"List of best-selling Latin albums in the United States\">Latin</a>\n",
      "<a href=\"/wiki/List_of_best-selling_albums_in_Australia\" title=\"List of best-selling albums in Australia\"> Australia</a>\n",
      "<a href=\"/wiki/List_of_best-selling_albums_in_New_Zealand\" title=\"List of best-selling albums in New Zealand\">New Zealand</a>\n",
      "<a href=\"/wiki/List_of_best-selling_albums_in_Argentina\" title=\"List of best-selling albums in Argentina\">Argentina</a>\n",
      "<a href=\"/wiki/List_of_best-selling_albums_in_Brazil\" title=\"List of best-selling albums in Brazil\">Brazil</a>\n",
      "<a href=\"/wiki/List_of_best-selling_albums_in_Chile\" title=\"List of best-selling albums in Chile\">Chile</a>\n",
      "<a href=\"/wiki/List_of_best-selling_albums_in_Colombia\" title=\"List of best-selling albums in Colombia\">Colombia</a>\n",
      "<a href=\"/wiki/List_of_best-selling_remix_albums\" title=\"List of best-selling remix albums\">Remix albums</a>\n",
      "<a href=\"/wiki/List_of_best-selling_albums_of_the_2000s_(century)\" title=\"List of best-selling albums of the 2000s (century)\">21st century</a>\n",
      "<a href=\"/wiki/List_of_best-selling_albums_by_country\" title=\"List of best-selling albums by country\">By country</a>\n"
     ]
    }
   ],
   "source": [
    "for link in soup.find('div', {'id': 'bodyContent'}).find_all('a', href = re.compile('^(/wiki/)((?!:).)*$')):\n",
    "        print(link)"
   ]
  },
  {
   "cell_type": "code",
   "execution_count": 71,
   "metadata": {},
   "outputs": [],
   "source": [
    "song_table = soup.find_all('table', {'class': 'wikitable'})"
   ]
  },
  {
   "cell_type": "code",
   "execution_count": 72,
   "metadata": {},
   "outputs": [
    {
     "name": "stdout",
     "output_type": "stream",
     "text": [
      "\n",
      "Rank\n",
      "\n",
      "Year\n",
      "\n",
      "Title\n",
      "\n",
      "Artist\n",
      "\n",
      "Sales\n",
      "\n",
      "Reference\n",
      "\n",
      "\n",
      "Rank\n",
      "\n",
      "Year\n",
      "\n",
      "Title\n",
      "\n",
      "Artist\n",
      "\n",
      "Sales\n",
      "\n",
      "Reference\n",
      "\n",
      "\n",
      "Rank\n",
      "\n",
      "Year\n",
      "\n",
      "Title\n",
      "\n",
      "Artist\n",
      "\n",
      "Sales\n",
      "\n",
      "Reference\n",
      "\n",
      "\n",
      "Rank\n",
      "\n",
      "Year\n",
      "\n",
      "Title\n",
      "\n",
      "Artist\n",
      "\n",
      "Sales\n",
      "\n",
      "Reference\n",
      "\n",
      "\n",
      "Rank\n",
      "\n",
      "Year\n",
      "\n",
      "Title\n",
      "\n",
      "Artist\n",
      "\n",
      "Sales\n",
      "\n",
      "Reference\n",
      "\n",
      "\n",
      "Rank\n",
      "\n",
      "Year\n",
      "\n",
      "Title\n",
      "\n",
      "Artist\n",
      "\n",
      "Sales\n",
      "\n",
      "Reference\n",
      "\n"
     ]
    }
   ],
   "source": [
    "for result in song_table: \n",
    "    print(result.find('tr').text)"
   ]
  },
  {
   "cell_type": "code",
   "execution_count": null,
   "metadata": {},
   "outputs": [],
   "source": []
  }
 ],
 "metadata": {
  "kernelspec": {
   "display_name": "Python 3",
   "language": "python",
   "name": "python3"
  },
  "language_info": {
   "codemirror_mode": {
    "name": "ipython",
    "version": 3
   },
   "file_extension": ".py",
   "mimetype": "text/x-python",
   "name": "python",
   "nbconvert_exporter": "python",
   "pygments_lexer": "ipython3",
   "version": "3.6.5"
  }
 },
 "nbformat": 4,
 "nbformat_minor": 2
}
